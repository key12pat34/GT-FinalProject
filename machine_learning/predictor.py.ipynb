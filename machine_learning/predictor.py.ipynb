{
 "cells": [
  {
   "cell_type": "markdown",
   "id": "wrong-zimbabwe",
   "metadata": {},
   "source": [
    "# Loading Trained Model"
   ]
  },
  {
   "cell_type": "code",
   "execution_count": 1,
   "id": "guided-patrol",
   "metadata": {},
   "outputs": [],
   "source": [
    "# import sklearn.externals.joblib as extjoblib\n",
    "import joblib"
   ]
  },
  {
   "cell_type": "code",
   "execution_count": 5,
   "id": "flying-overall",
   "metadata": {},
   "outputs": [],
   "source": [
    "# Load the model\n",
    "loaded_model = joblib.load(\"joblib_model.pk1\")\n"
   ]
  },
  {
   "cell_type": "markdown",
   "id": "centered-weight",
   "metadata": {},
   "source": [
    "# Manual Predictor"
   ]
  },
  {
   "cell_type": "code",
   "execution_count": 6,
   "id": "excessive-surge",
   "metadata": {},
   "outputs": [
    {
     "name": "stdout",
     "output_type": "stream",
     "text": [
      "['T']\n"
     ]
    }
   ],
   "source": [
    "#Game: Same_and_Max:_Save_The_World (Nintendo Switch)\n",
    "#Result Value should be \"T\"\n",
    "print(loaded_model.predict([[0,0,0,0,1,1,0,0,0,0,0,0,0,0,0,1,0,0,0,0,0,0,0,0,0,0,0,1,1,0,0]]))"
   ]
  }
 ],
 "metadata": {
  "kernelspec": {
   "display_name": "Python 3",
   "language": "python",
   "name": "python3"
  },
  "language_info": {
   "codemirror_mode": {
    "name": "ipython",
    "version": 3
   },
   "file_extension": ".py",
   "mimetype": "text/x-python",
   "name": "python",
   "nbconvert_exporter": "python",
   "pygments_lexer": "ipython3",
   "version": "3.8.5"
  }
 },
 "nbformat": 4,
 "nbformat_minor": 5
}
