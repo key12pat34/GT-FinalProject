{
 "cells": [
  {
   "cell_type": "markdown",
   "metadata": {},
   "source": [
    "# Loading Trained Model"
   ]
  },
  {
   "cell_type": "code",
   "execution_count": 2,
   "metadata": {},
   "outputs": [],
   "source": [
    "# import sklearn.externals.joblib as extjoblib\n",
    "import joblib"
   ]
  },
  {
   "cell_type": "code",
   "execution_count": 3,
   "metadata": {},
   "outputs": [
    {
     "name": "stderr",
     "output_type": "stream",
     "text": [
      "C:\\Users\\rpsii\\anaconda3\\lib\\site-packages\\sklearn\\base.py:329: UserWarning: Trying to unpickle estimator SVC from version 0.23.2 when using version 0.23.1. This might lead to breaking code or invalid results. Use at your own risk.\n",
      "  warnings.warn(\n"
     ]
    }
   ],
   "source": [
    "# Load the model\n",
    "loaded_model = joblib.load(\"joblib_model.pk1\")\n"
   ]
  },
  {
   "cell_type": "markdown",
   "metadata": {},
   "source": [
    "# Manual Predictor"
   ]
  },
  {
   "cell_type": "code",
   "execution_count": 8,
   "metadata": {},
   "outputs": [],
   "source": [
    "alcohol_reference = 0\n",
    "animated_blood = 0\n",
    "blood = 0\n",
    "blood_and_gore = 0\n",
    "cartoon_violence = 0\n",
    "crude_humor = 0\n",
    "drug_reference = 0\n",
    "fantasy_violence = 0\n",
    "intense_violence = 0\n",
    "language = 0\n",
    "lyrics = 0\n",
    "mature_humor = 0\n",
    "mild_blood = 0\n",
    "mild_cartoon_violence = 0\n",
    "mild_fantasy_violence = 0\n",
    "mild_language = 0\n",
    "mild_lyrics = 0\n",
    "mild_suggestive_themes = 0\n",
    "mild_violence = 0\n",
    "no_descriptors = 0\n",
    "nudity = 0\n",
    "partial_nudity = 0\n",
    "sexual_content = 0\n",
    "sexual_themes = 0\n",
    "simulated_gambling = 0\n",
    "strong_language = 0\n",
    "strong_sexual_content = 0\n",
    "suggestive_themes = 0\n",
    "use_of_alcohol = 0\n",
    "use_of_drugs_and_alcohol = 0\n",
    "violence = 0\n",
    "\n",
    "def manualpredictor():\n",
    "    print(loaded_model.predict([[alcohol_reference, animated_blood, blood, blood_and_gore, cartoon_violence, crude_humor, drug_reference, fantasy_violence, intense_violence, language, lyrics, mature_humor, mild_blood, mild_cartoon_violence, mild_fantasy_violence, mild_language, mild_lyrics, mild_suggestive_themes, mild_violence, no_descriptors, nudity, partial_nudity, sexual_content, sexual_themes, simulated_gambling, strong_language, strong_sexual_content, suggestive_themes, use_of_alcohol, use_of_drugs_and_alcohol, violence]]))"
   ]
  },
  {
   "cell_type": "code",
   "execution_count": 9,
   "metadata": {},
   "outputs": [
    {
     "name": "stdout",
     "output_type": "stream",
     "text": [
      "['T']\n"
     ]
    }
   ],
   "source": [
    "#Game: Same_and_Max:_Save_The_World (Nintendo Switch)\n",
    "#Result Value should be \"T\"\n",
    "alcohol_reference = 0\n",
    "animated_blood = 0\n",
    "blood = 0\n",
    "blood_and_gore = 0\n",
    "cartoon_violence = 1\n",
    "crude_humor = 1\n",
    "drug_reference = 0\n",
    "fantasy_violence = 0\n",
    "intense_violence = 0\n",
    "language = 0\n",
    "lyrics = 0\n",
    "mature_humor = 0\n",
    "mild_blood = 0\n",
    "mild_cartoon_violence = 0\n",
    "mild_fantasy_violence = 0\n",
    "mild_language = 1\n",
    "mild_lyrics = 0\n",
    "mild_suggestive_themes = 0\n",
    "mild_violence = 0\n",
    "no_descriptors = 0\n",
    "nudity = 0\n",
    "partial_nudity = 0\n",
    "sexual_content = 0\n",
    "sexual_themes = 0\n",
    "simulated_gambling = 0\n",
    "strong_language = 0\n",
    "strong_sexual_content = 0\n",
    "suggestive_themes = 1\n",
    "use_of_alcohol = 1\n",
    "use_of_drugs_and_alcohol = 0\n",
    "violence = 0\n",
    "\n",
    "manualpredictor()"
   ]
  },
  {
   "cell_type": "code",
   "execution_count": 10,
   "metadata": {},
   "outputs": [
    {
     "name": "stdout",
     "output_type": "stream",
     "text": [
      "['T']\n"
     ]
    }
   ],
   "source": [
    "#Game: The King of Fighters 2002 Unlimited Match (PlayStation 4)\n",
    "#Result Value should be \"T\"\n",
    "alcohol_reference = 0\n",
    "animated_blood = 0\n",
    "blood = 1\n",
    "blood_and_gore = 0\n",
    "cartoon_violence = 0\n",
    "crude_humor = 0\n",
    "drug_reference = 0\n",
    "fantasy_violence = 0\n",
    "intense_violence = 0\n",
    "language = 0\n",
    "lyrics = 0\n",
    "mature_humor = 0\n",
    "mild_blood = 0\n",
    "mild_cartoon_violence = 0\n",
    "mild_fantasy_violence = 0\n",
    "mild_language = 0\n",
    "mild_lyrics = 0\n",
    "mild_suggestive_themes = 0\n",
    "mild_violence = 0\n",
    "no_descriptors = 0\n",
    "nudity = 0\n",
    "partial_nudity = 1\n",
    "sexual_content = 0\n",
    "sexual_themes = 0\n",
    "simulated_gambling = 0\n",
    "strong_language = 0\n",
    "strong_sexual_content = 0\n",
    "suggestive_themes = 1\n",
    "use_of_alcohol = 0\n",
    "use_of_drugs_and_alcohol = 1\n",
    "violence = 1\n",
    "\n",
    "manualpredictor()"
   ]
  },
  {
   "cell_type": "code",
   "execution_count": 11,
   "metadata": {},
   "outputs": [
    {
     "name": "stdout",
     "output_type": "stream",
     "text": [
      "['M']\n"
     ]
    }
   ],
   "source": [
    "#Game: Persona 5 Strikers (Windows PC, PlayStation 4, Nintendo Switch)\n",
    "#Result Value should be \"M\"\n",
    "\n",
    "alcohol_reference = 0\n",
    "animated_blood = 0\n",
    "blood = 1\n",
    "blood_and_gore = 0\n",
    "cartoon_violence = 0\n",
    "crude_humor = 0\n",
    "drug_reference = 0\n",
    "fantasy_violence = 0\n",
    "intense_violence = 0\n",
    "language = 0\n",
    "lyrics = 0\n",
    "mature_humor = 0\n",
    "mild_blood = 0\n",
    "mild_cartoon_violence = 0\n",
    "mild_fantasy_violence = 0\n",
    "mild_language = 0\n",
    "mild_lyrics = 0\n",
    "mild_suggestive_themes = 0\n",
    "mild_violence = 0\n",
    "no_descriptors = 0\n",
    "nudity = 0\n",
    "partial_nudity = 1\n",
    "sexual_content = 0\n",
    "sexual_themes = 1\n",
    "simulated_gambling = 0\n",
    "strong_language = 1\n",
    "strong_sexual_content = 0\n",
    "suggestive_themes = 0\n",
    "use_of_alcohol = 0\n",
    "use_of_drugs_and_alcohol = 0\n",
    "violence = 1\n",
    "\n",
    "manualpredictor()"
   ]
  },
  {
   "cell_type": "code",
   "execution_count": 14,
   "metadata": {},
   "outputs": [
    {
     "name": "stdout",
     "output_type": "stream",
     "text": [
      "['T']\n"
     ]
    }
   ],
   "source": [
    "#Game: Reigns (Stadia)\n",
    "#Result Value should be \"ET\"\n",
    "\n",
    "alcohol_reference = 1\n",
    "animated_blood = 0\n",
    "blood = 0\n",
    "blood_and_gore = 0\n",
    "cartoon_violence = 0\n",
    "crude_humor = 0\n",
    "drug_reference = 0\n",
    "fantasy_violence = 1\n",
    "intense_violence = 0\n",
    "language = 1\n",
    "lyrics = 0\n",
    "mature_humor = 0\n",
    "mild_blood = 1\n",
    "mild_cartoon_violence = 0\n",
    "mild_fantasy_violence = 0\n",
    "mild_language = 0\n",
    "mild_lyrics = 0\n",
    "mild_suggestive_themes = 0\n",
    "mild_violence = 0\n",
    "no_descriptors = 0\n",
    "nudity = 0\n",
    "partial_nudity = 0\n",
    "sexual_content = 0\n",
    "sexual_themes = 0\n",
    "simulated_gambling = 0\n",
    "strong_language = 0\n",
    "strong_sexual_content = 0\n",
    "suggestive_themes = 1\n",
    "use_of_alcohol = 0\n",
    "use_of_drugs_and_alcohol = 0\n",
    "violence = 0\n",
    "\n",
    "manualpredictor()"
   ]
  },
  {
   "cell_type": "code",
   "execution_count": 17,
   "metadata": {},
   "outputs": [
    {
     "name": "stdout",
     "output_type": "stream",
     "text": [
      "['E']\n"
     ]
    }
   ],
   "source": [
    "#Game: R.B.I. Baseball 21 (Windows PC, PlayStation 4, Nintendo Switch, Xbox One, Xbox Series)\n",
    "#Result Value should be \"E\"\n",
    "\n",
    "alcohol_reference = 0\n",
    "animated_blood = 0\n",
    "blood = 0\n",
    "blood_and_gore = 0\n",
    "cartoon_violence = 0\n",
    "crude_humor = 0\n",
    "drug_reference = 0\n",
    "fantasy_violence = 0\n",
    "intense_violence = 0\n",
    "language = 0\n",
    "lyrics = 0\n",
    "mature_humor = 0\n",
    "mild_blood = 0\n",
    "mild_cartoon_violence = 0\n",
    "mild_fantasy_violence = 0\n",
    "mild_language = 0\n",
    "mild_lyrics = 1\n",
    "mild_suggestive_themes = 0\n",
    "mild_violence = 0\n",
    "no_descriptors = 0\n",
    "nudity = 0\n",
    "partial_nudity = 0\n",
    "sexual_content = 0\n",
    "sexual_themes = 0\n",
    "simulated_gambling = 0\n",
    "strong_language = 0\n",
    "strong_sexual_content = 0\n",
    "suggestive_themes = 0\n",
    "use_of_alcohol = 0\n",
    "use_of_drugs_and_alcohol = 0\n",
    "violence = 0\n",
    "\n",
    "manualpredictor()"
   ]
  },
  {
   "cell_type": "code",
   "execution_count": 18,
   "metadata": {},
   "outputs": [
    {
     "name": "stdout",
     "output_type": "stream",
     "text": [
      "['ET']\n"
     ]
    }
   ],
   "source": [
    "#Game: Blue Fire (PlayStation 4, Stadia, Nintendo Switch)\n",
    "#Result Value should be \"E\"\n",
    "\n",
    "alcohol_reference = 0\n",
    "animated_blood = 1\n",
    "blood = 0\n",
    "blood_and_gore = 0\n",
    "cartoon_violence = 0\n",
    "crude_humor = 0\n",
    "drug_reference = 0\n",
    "fantasy_violence = 1\n",
    "intense_violence = 0\n",
    "language = 0\n",
    "lyrics = 0\n",
    "mature_humor = 0\n",
    "mild_blood = 0\n",
    "mild_cartoon_violence = 0\n",
    "mild_fantasy_violence = 0\n",
    "mild_language = 1\n",
    "mild_lyrics = 0\n",
    "mild_suggestive_themes = 0\n",
    "mild_violence = 0\n",
    "no_descriptors = 0\n",
    "nudity = 0\n",
    "partial_nudity = 0\n",
    "sexual_content = 0\n",
    "sexual_themes = 0\n",
    "simulated_gambling = 0\n",
    "strong_language = 0\n",
    "strong_sexual_content = 0\n",
    "suggestive_themes = 0\n",
    "use_of_alcohol = 0\n",
    "use_of_drugs_and_alcohol = 0\n",
    "violence = 0\n",
    "\n",
    "manualpredictor()"
   ]
  },
  {
   "cell_type": "code",
   "execution_count": 20,
   "metadata": {},
   "outputs": [
    {
     "name": "stdout",
     "output_type": "stream",
     "text": [
      "['M']\n"
     ]
    }
   ],
   "source": [
    "#Game: Terminator: Resistance Enhanced (PlayStation 5)\n",
    "#Result Value should be \"M\"\n",
    "\n",
    "alcohol_reference = 0\n",
    "animated_blood = 0\n",
    "blood = 1\n",
    "blood_and_gore = 0\n",
    "cartoon_violence = 0\n",
    "crude_humor = 0\n",
    "drug_reference = 0\n",
    "fantasy_violence = 0\n",
    "intense_violence = 0\n",
    "language = 0\n",
    "lyrics = 0\n",
    "mature_humor = 0\n",
    "mild_blood = 0\n",
    "mild_cartoon_violence = 0\n",
    "mild_fantasy_violence = 0\n",
    "mild_language = 0\n",
    "mild_lyrics = 0\n",
    "mild_suggestive_themes = 0\n",
    "mild_violence = 0\n",
    "no_descriptors = 0\n",
    "nudity = 0\n",
    "partial_nudity = 0\n",
    "sexual_content = 1\n",
    "sexual_themes = 0\n",
    "simulated_gambling = 0\n",
    "strong_language = 1\n",
    "strong_sexual_content = 0\n",
    "suggestive_themes = 0\n",
    "use_of_alcohol = 0\n",
    "use_of_drugs_and_alcohol = 0\n",
    "violence = 1\n",
    "\n",
    "manualpredictor()"
   ]
  },
  {
   "cell_type": "code",
   "execution_count": 21,
   "metadata": {},
   "outputs": [
    {
     "name": "stdout",
     "output_type": "stream",
     "text": [
      "['ET']\n"
     ]
    }
   ],
   "source": [
    "#Game: Hotshot Racing (PlayStation 4, Nintendo Switch)\n",
    "#Result Value should be \"ET\"\n",
    "\n",
    "alcohol_reference = 1\n",
    "animated_blood = 0\n",
    "blood = 0\n",
    "blood_and_gore = 0\n",
    "cartoon_violence = 0\n",
    "crude_humor = 0\n",
    "drug_reference = 0\n",
    "fantasy_violence = 0\n",
    "intense_violence = 0\n",
    "language = 1\n",
    "lyrics = 0\n",
    "mature_humor = 0\n",
    "mild_blood = 0\n",
    "mild_cartoon_violence = 0\n",
    "mild_fantasy_violence = 0\n",
    "mild_language = 0\n",
    "mild_lyrics = 0\n",
    "mild_suggestive_themes = 0\n",
    "mild_violence = 1\n",
    "no_descriptors = 0\n",
    "nudity = 0\n",
    "partial_nudity = 0\n",
    "sexual_content = 0\n",
    "sexual_themes = 0\n",
    "simulated_gambling = 0\n",
    "strong_language = 0\n",
    "strong_sexual_content = 0\n",
    "suggestive_themes = 0\n",
    "use_of_alcohol = 0\n",
    "use_of_drugs_and_alcohol = 0\n",
    "violence = 0\n",
    "\n",
    "manualpredictor()"
   ]
  },
  {
   "cell_type": "code",
   "execution_count": 22,
   "metadata": {},
   "outputs": [
    {
     "name": "stdout",
     "output_type": "stream",
     "text": [
      "['ET']\n"
     ]
    }
   ],
   "source": [
    "#Game: Subnautica (Nintendo-Switch)\n",
    "#Result Value should be \"ET\"\n",
    "\n",
    "alcohol_reference = 0\n",
    "animated_blood = 0\n",
    "blood = 0\n",
    "blood_and_gore = 0\n",
    "cartoon_violence = 0\n",
    "crude_humor = 0\n",
    "drug_reference = 0\n",
    "fantasy_violence = 1\n",
    "intense_violence = 0\n",
    "language = 0\n",
    "lyrics = 0\n",
    "mature_humor = 0\n",
    "mild_blood = 0\n",
    "mild_cartoon_violence = 0\n",
    "mild_fantasy_violence = 0\n",
    "mild_language = 1\n",
    "mild_lyrics = 0\n",
    "mild_suggestive_themes = 0\n",
    "mild_violence = 0\n",
    "no_descriptors = 0\n",
    "nudity = 0\n",
    "partial_nudity = 0\n",
    "sexual_content = 0\n",
    "sexual_themes = 0\n",
    "simulated_gambling = 0\n",
    "strong_language = 0\n",
    "strong_sexual_content = 0\n",
    "suggestive_themes = 0\n",
    "use_of_alcohol = 0\n",
    "use_of_drugs_and_alcohol = 0\n",
    "violence = 0\n",
    "\n",
    "manualpredictor()"
   ]
  },
  {
   "cell_type": "code",
   "execution_count": 25,
   "metadata": {},
   "outputs": [
    {
     "name": "stdout",
     "output_type": "stream",
     "text": [
      "['T']\n"
     ]
    }
   ],
   "source": [
    "#Game: Code: Realize ~Wintertide Miracles~ (Nintendo Switch)\n",
    "#Result Value should be \"T\"\n",
    "\n",
    "alcohol_reference = 0\n",
    "animated_blood = 0\n",
    "blood = 1\n",
    "blood_and_gore = 0\n",
    "cartoon_violence = 0\n",
    "crude_humor = 0\n",
    "drug_reference = 0\n",
    "fantasy_violence = 0\n",
    "intense_violence = 0\n",
    "language = 0\n",
    "lyrics = 0\n",
    "mature_humor = 0\n",
    "mild_blood = 0\n",
    "mild_cartoon_violence = 0\n",
    "mild_fantasy_violence = 0\n",
    "mild_language = 1\n",
    "mild_lyrics = 0\n",
    "mild_suggestive_themes = 1\n",
    "mild_violence = 1\n",
    "no_descriptors = 0\n",
    "nudity = 0\n",
    "partial_nudity = 0\n",
    "sexual_content = 0\n",
    "sexual_themes = 0\n",
    "simulated_gambling = 0\n",
    "strong_language = 0\n",
    "strong_sexual_content = 0\n",
    "suggestive_themes = 0\n",
    "use_of_alcohol = 0\n",
    "use_of_drugs_and_alcohol = 1\n",
    "violence = 0\n",
    "\n",
    "manualpredictor()"
   ]
  },
  {
   "cell_type": "code",
   "execution_count": null,
   "metadata": {},
   "outputs": [],
   "source": []
  }
 ],
 "metadata": {
  "kernelspec": {
   "display_name": "Python 3",
   "language": "python",
   "name": "python3"
  },
  "language_info": {
   "codemirror_mode": {
    "name": "ipython",
    "version": 3
   },
   "file_extension": ".py",
   "mimetype": "text/x-python",
   "name": "python",
   "nbconvert_exporter": "python",
   "pygments_lexer": "ipython3",
   "version": "3.8.3"
  }
 },
 "nbformat": 4,
 "nbformat_minor": 5
}
