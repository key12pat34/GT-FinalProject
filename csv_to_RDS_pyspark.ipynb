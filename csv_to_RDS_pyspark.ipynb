{
 "cells": [
  {
   "cell_type": "code",
   "execution_count": null,
   "metadata": {
    "colab": {
     "base_uri": "https://localhost:8080/"
    },
    "id": "pn6pFx3v0f2R",
    "outputId": "adf9f05a-ea15-4fe2-dd32-89080eaaa9fa"
   },
   "outputs": [],
   "source": [
    "import os\n",
    "# Find the latest version of spark 3.0  from http://www-us.apache.org/dist/spark/ and enter as the spark version\n",
    "# For example:\n",
    "spark_version = 'spark-3.0.2'\n",
    "# spark_version = 'spark-3.<spark version>'\n",
    "os.environ['SPARK_VERSION']=spark_version\n",
    "\n",
    "# Install Spark and Java\n",
    "!apt-get update\n",
    "!apt-get install openjdk-11-jdk-headless -qq > /dev/null\n",
    "!wget -q http://www-us.apache.org/dist/spark/$SPARK_VERSION/$SPARK_VERSION-bin-hadoop2.7.tgz\n",
    "!tar xf $SPARK_VERSION-bin-hadoop2.7.tgz\n",
    "!pip install -q findspark\n",
    "\n",
    "# Set Environment Variables\n",
    "os.environ[\"JAVA_HOME\"] = \"/usr/lib/jvm/java-11-openjdk-amd64\"\n",
    "os.environ[\"SPARK_HOME\"] = f\"/content/{spark_version}-bin-hadoop2.7\"\n",
    "\n",
    "# Start a SparkSession\n",
    "import findspark\n",
    "findspark.init()"
   ]
  },
  {
   "cell_type": "code",
   "execution_count": null,
   "metadata": {
    "colab": {
     "base_uri": "https://localhost:8080/"
    },
    "id": "lTx3iHiI0j1i",
    "outputId": "c9afc7b8-45c3-4f89-88c1-ccc94f85d0c4"
   },
   "outputs": [],
   "source": [
    "!wget https://jdbc.postgresql.org/download/postgresql-42.2.9.jar"
   ]
  },
  {
   "cell_type": "code",
   "execution_count": null,
   "metadata": {
    "id": "o-XLqYUo0nqN"
   },
   "outputs": [],
   "source": [
    "from pyspark.sql import SparkSession\n",
    "spark = SparkSession.builder.appName(\"GT-FinalProject\").config(\"spark.driver.extraClassPath\",\"/content/postgresql-42.2.9.jar\").getOrCreate()"
   ]
  },
  {
   "cell_type": "code",
   "execution_count": null,
   "metadata": {
    "colab": {
     "base_uri": "https://localhost:8080/"
    },
    "id": "PWo0-KhZ2IkS",
    "outputId": "dd9d998c-9e3b-4bc9-9236-43fdeaab404c"
   },
   "outputs": [],
   "source": [
    "# import and clean data frame\n",
    "from pyspark import SparkFiles\n",
    "url=\"https://aws-gt-finalproject001.s3.amazonaws.com/full_esrb_rating_data.csv\"\n",
    "spark.sparkContext.addFile(url)\n",
    "rating_data_df = spark.read.option('header', 'true').csv(SparkFiles.get(\"full_esrb_rating_data.csv\"), inferSchema=True, sep=',')\n",
    "rating_data_df = rating_data_df.drop('_c0')\n",
    "rating_data_df = rating_data_df.dropDuplicates([\"title\"])\n",
    "rating_data_df.show(20)"
   ]
  },
  {
   "cell_type": "code",
   "execution_count": null,
   "metadata": {
    "id": "GvOfTmzP2OGN"
   },
   "outputs": [],
   "source": [
    "# Configuration for RDS instance\n",
    "mode=\"append\"\n",
    "jdbc_url = \"jdbc:postgresql://aws-gt-finalproject.c9qveamcfmcm.us-east-2.rds.amazonaws.com:5432/esrb_rating_data\"\n",
    "config = {\"user\":\"postgres\",\n",
    "          \"password\": \"PASSWORDHERE\",\n",
    "          \"driver\":\"org.postgresql.Driver\"}"
   ]
  },
  {
   "cell_type": "code",
   "execution_count": null,
   "metadata": {
    "id": "E7DRceSD2ODw"
   },
   "outputs": [],
   "source": [
    "# Write DataFrame to table\n",
    "\n",
    "rating_data_df.write.jdbc(url=jdbc_url, table='esrb_rating', mode=mode, properties=config)"
   ]
  },
  {
   "cell_type": "code",
   "execution_count": null,
   "metadata": {
    "id": "certified-market"
   },
   "outputs": [],
   "source": []
  }
 ],
 "metadata": {
  "colab": {
   "collapsed_sections": [],
   "name": "csv_to_RDS_pyspark.ipynb",
   "provenance": []
  },
  "kernelspec": {
   "display_name": "Python 3",
   "language": "python",
   "name": "python3"
  },
  "language_info": {
   "codemirror_mode": {
    "name": "ipython",
    "version": 3
   },
   "file_extension": ".py",
   "mimetype": "text/x-python",
   "name": "python",
   "nbconvert_exporter": "python",
   "pygments_lexer": "ipython3",
   "version": "3.8.3"
  }
 },
 "nbformat": 4,
 "nbformat_minor": 5
}
