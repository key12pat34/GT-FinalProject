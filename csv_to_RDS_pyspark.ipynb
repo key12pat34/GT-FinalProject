{
  "nbformat": 4,
  "nbformat_minor": 5,
  "metadata": {
    "kernelspec": {
      "display_name": "Python 3",
      "language": "python",
      "name": "python3"
    },
    "language_info": {
      "codemirror_mode": {
        "name": "ipython",
        "version": 3
      },
      "file_extension": ".py",
      "mimetype": "text/x-python",
      "name": "python",
      "nbconvert_exporter": "python",
      "pygments_lexer": "ipython3",
      "version": "3.8.5"
    },
    "colab": {
      "name": "csv_to_RDS_pyspark.ipynb",
      "provenance": [],
      "collapsed_sections": []
    }
  },
  "cells": [
    {
      "cell_type": "code",
      "metadata": {
        "colab": {
          "base_uri": "https://localhost:8080/"
        },
        "id": "pn6pFx3v0f2R",
        "outputId": "adf9f05a-ea15-4fe2-dd32-89080eaaa9fa"
      },
      "source": [
        "import os\n",
        "# Find the latest version of spark 3.0  from http://www-us.apache.org/dist/spark/ and enter as the spark version\n",
        "# For example:\n",
        "spark_version = 'spark-3.0.2'\n",
        "# spark_version = 'spark-3.<spark version>'\n",
        "os.environ['SPARK_VERSION']=spark_version\n",
        "\n",
        "# Install Spark and Java\n",
        "!apt-get update\n",
        "!apt-get install openjdk-11-jdk-headless -qq > /dev/null\n",
        "!wget -q http://www-us.apache.org/dist/spark/$SPARK_VERSION/$SPARK_VERSION-bin-hadoop2.7.tgz\n",
        "!tar xf $SPARK_VERSION-bin-hadoop2.7.tgz\n",
        "!pip install -q findspark\n",
        "\n",
        "# Set Environment Variables\n",
        "os.environ[\"JAVA_HOME\"] = \"/usr/lib/jvm/java-11-openjdk-amd64\"\n",
        "os.environ[\"SPARK_HOME\"] = f\"/content/{spark_version}-bin-hadoop2.7\"\n",
        "\n",
        "# Start a SparkSession\n",
        "import findspark\n",
        "findspark.init()"
      ],
      "id": "pn6pFx3v0f2R",
      "execution_count": null,
      "outputs": [
        {
          "output_type": "stream",
          "text": [
            "\r0% [Working]\r            \rIgn:1 https://developer.download.nvidia.com/compute/cuda/repos/ubuntu1804/x86_64  InRelease\n",
            "Get:2 https://cloud.r-project.org/bin/linux/ubuntu bionic-cran40/ InRelease [3,626 B]\n",
            "Hit:3 http://archive.ubuntu.com/ubuntu bionic InRelease\n",
            "Get:4 http://ppa.launchpad.net/c2d4u.team/c2d4u4.0+/ubuntu bionic InRelease [15.9 kB]\n",
            "Ign:5 https://developer.download.nvidia.com/compute/machine-learning/repos/ubuntu1804/x86_64  InRelease\n",
            "Hit:6 https://developer.download.nvidia.com/compute/cuda/repos/ubuntu1804/x86_64  Release\n",
            "Get:7 http://security.ubuntu.com/ubuntu bionic-security InRelease [88.7 kB]\n",
            "Hit:8 https://developer.download.nvidia.com/compute/machine-learning/repos/ubuntu1804/x86_64  Release\n",
            "Get:9 http://archive.ubuntu.com/ubuntu bionic-updates InRelease [88.7 kB]\n",
            "Hit:10 http://ppa.launchpad.net/cran/libgit2/ubuntu bionic InRelease\n",
            "Get:11 http://archive.ubuntu.com/ubuntu bionic-backports InRelease [74.6 kB]\n",
            "Hit:12 http://ppa.launchpad.net/deadsnakes/ppa/ubuntu bionic InRelease\n",
            "Hit:13 http://ppa.launchpad.net/graphics-drivers/ppa/ubuntu bionic InRelease\n",
            "Get:16 http://ppa.launchpad.net/c2d4u.team/c2d4u4.0+/ubuntu bionic/main Sources [1,738 kB]\n",
            "Get:17 http://security.ubuntu.com/ubuntu bionic-security/universe amd64 Packages [1,392 kB]\n",
            "Get:18 http://archive.ubuntu.com/ubuntu bionic-updates/main amd64 Packages [2,394 kB]\n",
            "Get:19 http://security.ubuntu.com/ubuntu bionic-security/main amd64 Packages [1,964 kB]\n",
            "Get:20 http://ppa.launchpad.net/c2d4u.team/c2d4u4.0+/ubuntu bionic/main amd64 Packages [889 kB]\n",
            "Get:21 http://archive.ubuntu.com/ubuntu bionic-updates/universe amd64 Packages [2,163 kB]\n",
            "Fetched 10.8 MB in 4s (3,062 kB/s)\n",
            "Reading package lists... Done\n"
          ],
          "name": "stdout"
        }
      ]
    },
    {
      "cell_type": "code",
      "metadata": {
        "colab": {
          "base_uri": "https://localhost:8080/"
        },
        "id": "lTx3iHiI0j1i",
        "outputId": "c9afc7b8-45c3-4f89-88c1-ccc94f85d0c4"
      },
      "source": [
        "!wget https://jdbc.postgresql.org/download/postgresql-42.2.9.jar"
      ],
      "id": "lTx3iHiI0j1i",
      "execution_count": null,
      "outputs": [
        {
          "output_type": "stream",
          "text": [
            "--2021-02-25 23:24:11--  https://jdbc.postgresql.org/download/postgresql-42.2.9.jar\n",
            "Resolving jdbc.postgresql.org (jdbc.postgresql.org)... 72.32.157.228, 2001:4800:3e1:1::228\n",
            "Connecting to jdbc.postgresql.org (jdbc.postgresql.org)|72.32.157.228|:443... connected.\n",
            "HTTP request sent, awaiting response... 200 OK\n",
            "Length: 914037 (893K) [application/java-archive]\n",
            "Saving to: ‘postgresql-42.2.9.jar’\n",
            "\n",
            "postgresql-42.2.9.j 100%[===================>] 892.61K  --.-KB/s    in 0.1s    \n",
            "\n",
            "2021-02-25 23:24:12 (6.06 MB/s) - ‘postgresql-42.2.9.jar’ saved [914037/914037]\n",
            "\n"
          ],
          "name": "stdout"
        }
      ]
    },
    {
      "cell_type": "code",
      "metadata": {
        "id": "o-XLqYUo0nqN"
      },
      "source": [
        "from pyspark.sql import SparkSession\n",
        "spark = SparkSession.builder.appName(\"GT-FinalProject\").config(\"spark.driver.extraClassPath\",\"/content/postgresql-42.2.9.jar\").getOrCreate()"
      ],
      "id": "o-XLqYUo0nqN",
      "execution_count": null,
      "outputs": []
    },
    {
      "cell_type": "code",
      "metadata": {
        "id": "PWo0-KhZ2IkS",
        "colab": {
          "base_uri": "https://localhost:8080/"
        },
        "outputId": "dd9d998c-9e3b-4bc9-9236-43fdeaab404c"
      },
      "source": [
        "# import and clean data frame\n",
        "from pyspark import SparkFiles\n",
        "url=\"https://aws-gt-finalproject001.s3.amazonaws.com/full_esrb_rating_data.csv\"\n",
        "spark.sparkContext.addFile(url)\n",
        "rating_data_df = spark.read.option('header', 'true').csv(SparkFiles.get(\"full_esrb_rating_data.csv\"), inferSchema=True, sep=',')\n",
        "rating_data_df = rating_data_df.drop('_c0')\n",
        "rating_data_df = rating_data_df.dropDuplicates([\"title\"])\n",
        "rating_data_df.show(20)"
      ],
      "id": "PWo0-KhZ2IkS",
      "execution_count": null,
      "outputs": [
        {
          "output_type": "stream",
          "text": [
            "+--------------------+-------+-----------------+--------------+-----+--------------+----------------+-----------+--------------+----------------+----------------+--------+------+------------+----------+---------------------+---------------------+-------------+-----------+----------------------+-------------+--------------+------+--------------+--------------+-------------+------------------+---------------+---------------------+-----------------+--------------+------------------------+--------+-----------+\n",
            "|               title|console|alcohol_reference|animated_blood|blood|blood_and_gore|cartoon_violence|crude_humor|drug_reference|fantasy_violence|intense_violence|language|lyrics|mature_humor|mild_blood|mild_cartoon_violence|mild_fantasy_violence|mild_language|mild_lyrics|mild_suggestive_themes|mild_violence|no_descriptors|nudity|partial_nudity|sexual_content|sexual_themes|simulated_gambling|strong_language|strong_sexual_content|suggestive_themes|use_of_alcohol|use_of_drugs_and_alcohol|violence|esrb_rating|\n",
            "+--------------------+-------+-----------------+--------------+-----+--------------+----------------+-----------+--------------+----------------+----------------+--------+------+------------+----------+---------------------+---------------------+-------------+-----------+----------------------+-------------+--------------+------+--------------+--------------+-------------+------------------+---------------+---------------------+-----------------+--------------+------------------------+--------+-----------+\n",
            "|             Anodyne|      1|                0|             0|    0|             0|               0|          0|             0|               0|               0|       0|     0|           0|         0|                    0|                    0|            0|          0|                     0|            0|             0|     0|             0|             0|            0|                 0|              1|                    0|                0|             0|                       0|       0|          M|\n",
            "|     DEAD OR ALIVE 6|      1|                0|             0|    1|             0|               0|          0|             0|               0|               0|       1|     0|           0|         0|                    0|                    0|            0|          0|                     0|            0|             0|     0|             0|             0|            0|                 1|              0|                    0|                0|             0|                       0|       0|          M|\n",
            "|DRAGON BALL FighterZ|      1|                0|             0|    0|             0|               1|          0|             0|               0|               0|       0|     0|           0|         0|                    0|                    0|            0|          1|                     1|            0|             0|     0|             0|             0|            0|                 0|              0|                    0|                0|             0|                       0|       0|          T|\n",
            "|            MX Nitro|      1|                0|             0|    0|             0|               0|          0|             0|               0|               0|       1|     0|           0|         0|                    0|                    0|            0|          0|                     0|            0|             0|     0|             0|             0|            0|                 0|              0|                    0|                0|             0|                       0|       0|         ET|\n",
            "|Masquerada: Songs...|      1|                0|             0|    1|             0|               0|          0|             0|               0|               0|       0|     0|           0|         0|                    0|                    0|            0|          1|                     0|            0|             0|     0|             0|             0|            0|                 0|              0|                    0|                0|             0|                       0|       1|          T|\n",
            "|      NEKOPARA Vol.1|      0|                0|             0|    0|             0|               0|          0|             0|               0|               0|       0|     0|           0|         0|                    0|                    0|            0|          0|                     0|            0|             0|     0|             0|             0|            1|                 0|              0|                    0|                0|             0|                       0|       0|          M|\n",
            "|NHL 21 Great Eigh...|      1|                0|             0|    0|             0|               0|          0|             0|               0|               0|       0|     0|           0|         0|                    0|                    0|            0|          0|                     0|            1|             0|     0|             0|             0|            0|                 0|              0|                    0|                0|             0|                       0|       0|         ET|\n",
            "|           Siralim 3|      0|                0|             0|    0|             0|               0|          0|             0|               1|               0|       0|     0|           0|         1|                    0|                    0|            0|          0|                     0|            0|             0|     0|             0|             0|            0|                 0|              0|                    0|                1|             0|                       0|       0|          T|\n",
            "|              Volume|      0|                0|             0|    0|             0|               0|          0|             0|               1|               0|       1|     0|           0|         0|                    0|                    0|            0|          0|                     0|            0|             1|     0|             0|             0|            0|                 0|              0|                    0|                0|             0|                       0|       0|         ET|\n",
            "|           18 Floors|      0|                0|             0|    0|             0|               0|          0|             0|               0|               0|       0|     0|           0|         1|                    0|                    0|            0|          0|                     0|            0|             0|     0|             0|             0|            0|                 0|              0|                    0|                0|             0|                       0|       0|         ET|\n",
            "|        3D Billiards|      0|                0|             0|    0|             0|               0|          0|             0|               0|               0|       0|     0|           0|         0|                    0|                    0|            0|          0|                     0|            0|             1|     0|             0|             0|            0|                 0|              0|                    0|                0|             0|                       0|       0|          E|\n",
            "|            Absolver|      1|                0|             0|    0|             0|               0|          0|             0|               0|               0|       0|     0|           0|         0|                    0|                    0|            0|          0|                     0|            0|             0|     0|             0|             0|            0|                 0|              0|                    0|                0|             0|                       0|       1|          T|\n",
            "|Battle Chef Briga...|      0|                1|             0|    0|             0|               0|          1|             0|               0|               1|       0|     0|           0|         0|                    0|                    0|            0|          0|                     0|            1|             0|     0|             0|             0|            0|                 0|              0|                    0|                0|             0|                       0|       0|         ET|\n",
            "|         Constructor|      1|                0|             0|    1|             0|               0|          1|             0|               0|               1|       0|     1|           0|         0|                    0|                    0|            0|          0|                     0|            0|             0|     0|             0|             0|            0|                 0|              0|                    0|                0|             0|                       0|       1|          T|\n",
            "|           Days Gone|      0|                0|             0|    0|             1|               0|          0|             1|               0|               0|       1|     0|           0|         0|                    0|                    0|            0|          0|                     0|            0|             0|     0|             0|             0|            1|                 0|              1|                    0|                0|             0|                       0|       0|          M|\n",
            "|           Detention|      0|                0|             0|    1|             0|               0|          0|             0|               0|               0|       0|     0|           0|         0|                    0|                    0|            0|          0|                     0|            0|             0|     0|             0|             0|            0|                 0|              0|                    0|                0|             0|                       0|       0|          M|\n",
            "|Disco Dodgeball R...|      1|                0|             0|    0|             0|               0|          0|             0|               1|               0|       0|     0|           0|         0|                    0|                    0|            0|          0|                     0|            0|             0|     0|             0|             0|            0|                 0|              0|                    0|                0|             0|                       0|       0|         ET|\n",
            "| Marvel Heroes Omega|      1|                0|             0|    0|             0|               0|          0|             0|               0|               0|       0|     0|           0|         0|                    0|                    0|            0|          0|                     0|            0|             0|     0|             0|             0|            0|                 0|              0|                    0|                0|             0|                       0|       1|          T|\n",
            "|              Mulaka|      1|                0|             0|    1|             0|               0|          0|             0|               0|               0|       0|     0|           0|         0|                    0|                    0|            0|          0|                     0|            0|             0|     0|             0|             0|            0|                 0|              0|                    0|                0|             0|                       0|       0|          T|\n",
            "|              Nioh 2|      0|                0|             0|    0|             1|               0|          0|             0|               0|               0|       0|     0|           0|         0|                    0|                    0|            0|          0|                     0|            0|             0|     0|             0|             0|            0|                 0|              0|                    0|                1|             0|                       0|       0|          M|\n",
            "+--------------------+-------+-----------------+--------------+-----+--------------+----------------+-----------+--------------+----------------+----------------+--------+------+------------+----------+---------------------+---------------------+-------------+-----------+----------------------+-------------+--------------+------+--------------+--------------+-------------+------------------+---------------+---------------------+-----------------+--------------+------------------------+--------+-----------+\n",
            "only showing top 20 rows\n",
            "\n"
          ],
          "name": "stdout"
        }
      ]
    },
    {
      "cell_type": "code",
      "metadata": {
        "id": "GvOfTmzP2OGN"
      },
      "source": [
        "# Configuration for RDS instance\n",
        "mode=\"append\"\n",
        "jdbc_url = \"jdbc:postgresql://aws-gt-finalproject.c9qveamcfmcm.us-east-2.rds.amazonaws.com:5432/esrb_rating_data\"\n",
        "config = {\"user\":\"postgres\",\n",
        "          \"password\": \"awsdbpassword001\",\n",
        "          \"driver\":\"org.postgresql.Driver\"}"
      ],
      "id": "GvOfTmzP2OGN",
      "execution_count": null,
      "outputs": []
    },
    {
      "cell_type": "code",
      "metadata": {
        "id": "E7DRceSD2ODw"
      },
      "source": [
        "# Write DataFrame to table\n",
        "\n",
        "rating_data_df.write.jdbc(url=jdbc_url, table='esrb_rating', mode=mode, properties=config)"
      ],
      "id": "E7DRceSD2ODw",
      "execution_count": null,
      "outputs": []
    },
    {
      "cell_type": "code",
      "metadata": {
        "id": "certified-market"
      },
      "source": [
        ""
      ],
      "id": "certified-market",
      "execution_count": null,
      "outputs": []
    }
  ]
}